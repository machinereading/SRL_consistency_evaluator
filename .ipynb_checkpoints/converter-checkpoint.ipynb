{
 "cells": [
  {
   "cell_type": "code",
   "execution_count": 11,
   "metadata": {},
   "outputs": [],
   "source": [
    "import json\n",
    "import glob\n",
    "from pprint import pprint"
   ]
  },
  {
   "cell_type": "code",
   "execution_count": 45,
   "metadata": {},
   "outputs": [],
   "source": [
    "# trn data\n",
    "val_dir = '/disk/project/koreanvalidation/input/val/'\n",
    "val_files = glob.glob(val_dir+'*')\n",
    "\n",
    "# trn_save dir\n",
    "trn_save_fname = '/disk/project/corpus/val.conll'"
   ]
  },
  {
   "cell_type": "code",
   "execution_count": null,
   "metadata": {},
   "outputs": [],
   "source": [
    "# target data\n",
    "val_dir = '/disk/project/koreanvalidation/input/val/'\n",
    "val_files = glob.glob(val_dir+'*')\n",
    "\n",
    "# save dir\n",
    "save_fname = '/disk/project/corpus/val.conll'"
   ]
  },
  {
   "cell_type": "code",
   "execution_count": 14,
   "metadata": {},
   "outputs": [],
   "source": [
    "def get_word_id(item, word):\n",
    "    word_id = False\n",
    "    e = item['end']\n",
    "    for i in range(len(word)):\n",
    "        w = word[i]\n",
    "        if w['begin'] <= e <= w['end']:\n",
    "            word_id = i\n",
    "            break\n",
    "\n",
    "    return word_id"
   ]
  },
  {
   "cell_type": "code",
   "execution_count": 24,
   "metadata": {},
   "outputs": [],
   "source": [
    "def words2tokens(words):\n",
    "    tokens = []\n",
    "    for i in words:\n",
    "        tokens.append(i['form'])\n",
    "    return tokens"
   ]
  },
  {
   "cell_type": "code",
   "execution_count": 54,
   "metadata": {},
   "outputs": [],
   "source": [
    "def convert_for_sent(srls, words):\n",
    "    result = []\n",
    "    tokens = words2tokens(words)\n",
    "    for srl in srls:\n",
    "        if srl:\n",
    "            pred_id = get_word_id(srl['predicate'], words)\n",
    "            pred = srl['predicate']['lemma'] + '.' + str(srl['predicate']['sense_id'])            \n",
    "            \n",
    "            preds = ['_' for i in range(len(tokens))]\n",
    "            senses = ['_' for i in range(len(tokens))]\n",
    "            preds[pred_id] = 'PRED'\n",
    "            senses[pred_id] = pred\n",
    "            \n",
    "            args = ['O' for i in range(len(tokens))]\n",
    "            \n",
    "            for arg in srl['argument']:\n",
    "                arg_id = get_word_id(arg, words)\n",
    "                label = arg['label'].replace('-', '_')\n",
    "                args[arg_id] = label\n",
    "                \n",
    "            sent = []\n",
    "            sent.append(tokens)\n",
    "            sent.append(preds)\n",
    "            sent.append(senses)\n",
    "            sent.append(args)\n",
    "            \n",
    "            result.append(sent)\n",
    "            \n",
    "    return result"
   ]
  },
  {
   "cell_type": "code",
   "execution_count": 55,
   "metadata": {},
   "outputs": [
    {
     "name": "stdout",
     "output_type": "stream",
     "text": [
      "saved to: /disk/project/corpus/val.conll\n",
      "saved srls: 4488\n"
     ]
    }
   ],
   "source": [
    "def converter(files, save_fname):\n",
    "    conll = []\n",
    "    for fname in files:\n",
    "        with open(fname, 'r') as f:\n",
    "            d = json.load(f)\n",
    "            \n",
    "        for doc in d['document']:\n",
    "            for sent in doc['sentence']:\n",
    "                words = sent['word']\n",
    "                srl = sent['SRL']\n",
    "                srl_conll = convert_for_sent(srl, words)\n",
    "                \n",
    "                conll += srl_conll\n",
    "                \n",
    "    with open(save_fname, 'w') as f:\n",
    "        for sent in conll:\n",
    "            tokens, preds, senses, args = sent[0], sent[1], sent[2], sent[3]\n",
    "            \n",
    "            n = 0\n",
    "            for i in range(len(tokens)):\n",
    "                line = str(n) + '\\t' + tokens[i] + '\\t' + preds[i] + '\\t' + senses[i] + '\\t' + args[i] + '\\n'\n",
    "                n +=1\n",
    "                f.write(line)\n",
    "            f.write('\\n')\n",
    "        \n",
    "    print('saved to:', save_fname)\n",
    "    print('saved srls:', len(conll))\n",
    "            \n",
    "converter(val_files, trn_save_fname)"
   ]
  },
  {
   "cell_type": "code",
   "execution_count": null,
   "metadata": {},
   "outputs": [],
   "source": []
  }
 ],
 "metadata": {
  "kernelspec": {
   "display_name": "Python 3",
   "language": "python",
   "name": "python3"
  },
  "language_info": {
   "codemirror_mode": {
    "name": "ipython",
    "version": 3
   },
   "file_extension": ".py",
   "mimetype": "text/x-python",
   "name": "python",
   "nbconvert_exporter": "python",
   "pygments_lexer": "ipython3",
   "version": "3.6.5"
  }
 },
 "nbformat": 4,
 "nbformat_minor": 2
}
